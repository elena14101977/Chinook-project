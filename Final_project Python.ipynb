{
 "cells": [
  {
   "cell_type": "code",
   "execution_count": 2,
   "metadata": {},
   "outputs": [],
   "source": [
    "import pandas as pd\n",
    "import numpy as np\n",
    "import sqlalchemy as sql\n",
    "from sqlalchemy import create_engine,inspect"
   ]
  },
  {
   "cell_type": "code",
   "execution_count": 3,
   "metadata": {},
   "outputs": [],
   "source": [
    "# creating list of dictionaries from department_budget data\n",
    "\n",
    "department_budget=[{\"sub_dep_id\":1, \"sub_dep_name\":\"managers\", \"department_id\":1, \"budget\":3000},\n",
    "{\"sub_dep_id\":2, \"sub_dep_name\":\"managers2\", \"department_id\":1, \"budget\":1500},\n",
    "{\"sub_dep_id\":1, \"sub_dep_name\":\"sales support john\", \"department_id\":2, \"budget\":2000},\n",
    "{\"sub_dep_id\":2, \"sub_dep_name\":\"sales support joe\", \"department_id\":2, \"budget\":1000},\n",
    "{\"sub_dep_id\":3, \"sub_dep_name\":\"sales support johnson\", \"department_id\":2, \"budget\":2500},\n",
    "{\"sub_dep_id\":4, \"sub_dep_name\":\"sales support eduards\", \"department_id\":2, \"budget\":2500}]"
   ]
  },
  {
   "cell_type": "code",
   "execution_count": 4,
   "metadata": {},
   "outputs": [
    {
     "data": {
      "text/html": [
       "<div>\n",
       "<style scoped>\n",
       "    .dataframe tbody tr th:only-of-type {\n",
       "        vertical-align: middle;\n",
       "    }\n",
       "\n",
       "    .dataframe tbody tr th {\n",
       "        vertical-align: top;\n",
       "    }\n",
       "\n",
       "    .dataframe thead th {\n",
       "        text-align: right;\n",
       "    }\n",
       "</style>\n",
       "<table border=\"1\" class=\"dataframe\">\n",
       "  <thead>\n",
       "    <tr style=\"text-align: right;\">\n",
       "      <th></th>\n",
       "      <th>sub_dep_id</th>\n",
       "      <th>sub_dep_name</th>\n",
       "      <th>department_id</th>\n",
       "      <th>budget</th>\n",
       "    </tr>\n",
       "  </thead>\n",
       "  <tbody>\n",
       "    <tr>\n",
       "      <th>0</th>\n",
       "      <td>1</td>\n",
       "      <td>managers</td>\n",
       "      <td>1</td>\n",
       "      <td>3000</td>\n",
       "    </tr>\n",
       "    <tr>\n",
       "      <th>1</th>\n",
       "      <td>2</td>\n",
       "      <td>managers2</td>\n",
       "      <td>1</td>\n",
       "      <td>1500</td>\n",
       "    </tr>\n",
       "    <tr>\n",
       "      <th>2</th>\n",
       "      <td>1</td>\n",
       "      <td>sales support john</td>\n",
       "      <td>2</td>\n",
       "      <td>2000</td>\n",
       "    </tr>\n",
       "    <tr>\n",
       "      <th>3</th>\n",
       "      <td>2</td>\n",
       "      <td>sales support joe</td>\n",
       "      <td>2</td>\n",
       "      <td>1000</td>\n",
       "    </tr>\n",
       "    <tr>\n",
       "      <th>4</th>\n",
       "      <td>3</td>\n",
       "      <td>sales support johnson</td>\n",
       "      <td>2</td>\n",
       "      <td>2500</td>\n",
       "    </tr>\n",
       "    <tr>\n",
       "      <th>5</th>\n",
       "      <td>4</td>\n",
       "      <td>sales support eduards</td>\n",
       "      <td>2</td>\n",
       "      <td>2500</td>\n",
       "    </tr>\n",
       "  </tbody>\n",
       "</table>\n",
       "</div>"
      ],
      "text/plain": [
       "   sub_dep_id           sub_dep_name  department_id  budget\n",
       "0           1               managers              1    3000\n",
       "1           2              managers2              1    1500\n",
       "2           1     sales support john              2    2000\n",
       "3           2      sales support joe              2    1000\n",
       "4           3  sales support johnson              2    2500\n",
       "5           4  sales support eduards              2    2500"
      ]
     },
     "execution_count": 4,
     "metadata": {},
     "output_type": "execute_result"
    }
   ],
   "source": [
    "# Create DataFrame department_budget from  list\n",
    "\n",
    "department_budget=pd.DataFrame(department_budget)      \n",
    "department_budget"
   ]
  },
  {
   "cell_type": "code",
   "execution_count": 5,
   "metadata": {},
   "outputs": [],
   "source": [
    "# reading file in format json into DataFrame \n",
    "\n",
    "department_budget_2=pd.read_json(r'C:\\Users\\revital\\OneDrive - Nucleix\\Desktop\\Data analysis Course\\final task\\Python\\python data\\raw-department-budget2.txt')\n"
   ]
  },
  {
   "cell_type": "code",
   "execution_count": 6,
   "metadata": {},
   "outputs": [
    {
     "data": {
      "text/html": [
       "<div>\n",
       "<style scoped>\n",
       "    .dataframe tbody tr th:only-of-type {\n",
       "        vertical-align: middle;\n",
       "    }\n",
       "\n",
       "    .dataframe tbody tr th {\n",
       "        vertical-align: top;\n",
       "    }\n",
       "\n",
       "    .dataframe thead th {\n",
       "        text-align: right;\n",
       "    }\n",
       "</style>\n",
       "<table border=\"1\" class=\"dataframe\">\n",
       "  <thead>\n",
       "    <tr style=\"text-align: right;\">\n",
       "      <th></th>\n",
       "      <th>sub_dep_id</th>\n",
       "      <th>sub_dep_name</th>\n",
       "      <th>department_id</th>\n",
       "      <th>budget</th>\n",
       "    </tr>\n",
       "  </thead>\n",
       "  <tbody>\n",
       "    <tr>\n",
       "      <th>0</th>\n",
       "      <td>1</td>\n",
       "      <td>IT purchases</td>\n",
       "      <td>3</td>\n",
       "      <td>2000</td>\n",
       "    </tr>\n",
       "    <tr>\n",
       "      <th>1</th>\n",
       "      <td>2</td>\n",
       "      <td>IT maintenance</td>\n",
       "      <td>3</td>\n",
       "      <td>1500</td>\n",
       "    </tr>\n",
       "    <tr>\n",
       "      <th>2</th>\n",
       "      <td>3</td>\n",
       "      <td>IT other</td>\n",
       "      <td>3</td>\n",
       "      <td>1000</td>\n",
       "    </tr>\n",
       "  </tbody>\n",
       "</table>\n",
       "</div>"
      ],
      "text/plain": [
       "   sub_dep_id    sub_dep_name  department_id  budget\n",
       "0           1    IT purchases              3    2000\n",
       "1           2  IT maintenance              3    1500\n",
       "2           3        IT other              3    1000"
      ]
     },
     "execution_count": 6,
     "metadata": {},
     "output_type": "execute_result"
    }
   ],
   "source": [
    "department_budget_2.head()"
   ]
  },
  {
   "cell_type": "code",
   "execution_count": 7,
   "metadata": {},
   "outputs": [],
   "source": [
    "# reading file into DataFrame using delimiter('-')\n",
    " \n",
    "department=pd.read_csv(r'C:\\Users\\revital\\OneDrive - Nucleix\\Desktop\\Data analysis Course\\final task\\Python\\python data\\raw-department.txt', delimiter='-')"
   ]
  },
  {
   "cell_type": "code",
   "execution_count": 8,
   "metadata": {},
   "outputs": [
    {
     "data": {
      "text/html": [
       "<div>\n",
       "<style scoped>\n",
       "    .dataframe tbody tr th:only-of-type {\n",
       "        vertical-align: middle;\n",
       "    }\n",
       "\n",
       "    .dataframe tbody tr th {\n",
       "        vertical-align: top;\n",
       "    }\n",
       "\n",
       "    .dataframe thead th {\n",
       "        text-align: right;\n",
       "    }\n",
       "</style>\n",
       "<table border=\"1\" class=\"dataframe\">\n",
       "  <thead>\n",
       "    <tr style=\"text-align: right;\">\n",
       "      <th></th>\n",
       "      <th>department_id</th>\n",
       "      <th>department_name</th>\n",
       "    </tr>\n",
       "  </thead>\n",
       "  <tbody>\n",
       "    <tr>\n",
       "      <th>0</th>\n",
       "      <td>1</td>\n",
       "      <td>General</td>\n",
       "    </tr>\n",
       "    <tr>\n",
       "      <th>1</th>\n",
       "      <td>2</td>\n",
       "      <td>Sales Support</td>\n",
       "    </tr>\n",
       "    <tr>\n",
       "      <th>2</th>\n",
       "      <td>3</td>\n",
       "      <td>IT</td>\n",
       "    </tr>\n",
       "  </tbody>\n",
       "</table>\n",
       "</div>"
      ],
      "text/plain": [
       "   department_id department_name\n",
       "0              1         General\n",
       "1              2   Sales Support\n",
       "2              3              IT"
      ]
     },
     "execution_count": 8,
     "metadata": {},
     "output_type": "execute_result"
    }
   ],
   "source": [
    "department\n"
   ]
  },
  {
   "cell_type": "code",
   "execution_count": 9,
   "metadata": {},
   "outputs": [],
   "source": [
    " # union of department_budget and department_budget_2 to one DataFrame\n",
    "\n",
    "department_budget=pd.concat([department_budget,department_budget_2],axis=0).reset_index(drop=True)"
   ]
  },
  {
   "cell_type": "code",
   "execution_count": 10,
   "metadata": {},
   "outputs": [],
   "source": [
    "# joining of department to department_budget \n",
    "\n",
    "\n",
    "department_budget=pd.merge(department_budget,department,how='left',on='department_id')"
   ]
  },
  {
   "cell_type": "code",
   "execution_count": 11,
   "metadata": {},
   "outputs": [
    {
     "data": {
      "text/html": [
       "<div>\n",
       "<style scoped>\n",
       "    .dataframe tbody tr th:only-of-type {\n",
       "        vertical-align: middle;\n",
       "    }\n",
       "\n",
       "    .dataframe tbody tr th {\n",
       "        vertical-align: top;\n",
       "    }\n",
       "\n",
       "    .dataframe thead th {\n",
       "        text-align: right;\n",
       "    }\n",
       "</style>\n",
       "<table border=\"1\" class=\"dataframe\">\n",
       "  <thead>\n",
       "    <tr style=\"text-align: right;\">\n",
       "      <th></th>\n",
       "      <th>department_id</th>\n",
       "      <th>department_name</th>\n",
       "      <th>budget</th>\n",
       "    </tr>\n",
       "  </thead>\n",
       "  <tbody>\n",
       "    <tr>\n",
       "      <th>0</th>\n",
       "      <td>1</td>\n",
       "      <td>General</td>\n",
       "      <td>4500</td>\n",
       "    </tr>\n",
       "    <tr>\n",
       "      <th>1</th>\n",
       "      <td>2</td>\n",
       "      <td>Sales Support</td>\n",
       "      <td>8000</td>\n",
       "    </tr>\n",
       "    <tr>\n",
       "      <th>2</th>\n",
       "      <td>3</td>\n",
       "      <td>IT</td>\n",
       "      <td>4500</td>\n",
       "    </tr>\n",
       "  </tbody>\n",
       "</table>\n",
       "</div>"
      ],
      "text/plain": [
       "   department_id department_name  budget\n",
       "0              1         General    4500\n",
       "1              2   Sales Support    8000\n",
       "2              3              IT    4500"
      ]
     },
     "execution_count": 11,
     "metadata": {},
     "output_type": "execute_result"
    }
   ],
   "source": [
    "# create DataFrame of sum budget per department\n",
    "\n",
    "department_budget=department_budget.groupby(['department_id','department_name'])['budget'].sum().reset_index()\n",
    "department_budget"
   ]
  },
  {
   "cell_type": "code",
   "execution_count": 12,
   "metadata": {},
   "outputs": [
    {
     "data": {
      "text/plain": [
       "3"
      ]
     },
     "execution_count": 12,
     "metadata": {},
     "output_type": "execute_result"
    }
   ],
   "source": [
    "# connecting and transfer table to Postgres SQL\n",
    "\n",
    "user='postgres'\n",
    "password='postgres'\n",
    "db_host = 'localhost'\n",
    "db_port = '5432'\n",
    "database='chinook'\n",
    "\n",
    "connection=f\"postgresql+psycopg2://{user}:{password}@{db_host}:{db_port}/{database}\"\n",
    "engine=create_engine(connection)\n",
    "\n",
    "department_budget.to_sql('department_budget', engine, if_exists='replace', index=False,schema='stg')"
   ]
  },
  {
   "cell_type": "code",
   "execution_count": 13,
   "metadata": {},
   "outputs": [],
   "source": [
    "inspector=inspect(engine)"
   ]
  },
  {
   "cell_type": "code",
   "execution_count": 14,
   "metadata": {},
   "outputs": [
    {
     "data": {
      "text/html": [
       "<div>\n",
       "<style scoped>\n",
       "    .dataframe tbody tr th:only-of-type {\n",
       "        vertical-align: middle;\n",
       "    }\n",
       "\n",
       "    .dataframe tbody tr th {\n",
       "        vertical-align: top;\n",
       "    }\n",
       "\n",
       "    .dataframe thead th {\n",
       "        text-align: right;\n",
       "    }\n",
       "</style>\n",
       "<table border=\"1\" class=\"dataframe\">\n",
       "  <thead>\n",
       "    <tr style=\"text-align: right;\">\n",
       "      <th></th>\n",
       "      <th>date</th>\n",
       "    </tr>\n",
       "  </thead>\n",
       "  <tbody>\n",
       "    <tr>\n",
       "      <th>0</th>\n",
       "      <td>2019-10-15</td>\n",
       "    </tr>\n",
       "    <tr>\n",
       "      <th>1</th>\n",
       "      <td>2021-03-09</td>\n",
       "    </tr>\n",
       "    <tr>\n",
       "      <th>2</th>\n",
       "      <td>2019-09-08</td>\n",
       "    </tr>\n",
       "    <tr>\n",
       "      <th>3</th>\n",
       "      <td>2021-07-13</td>\n",
       "    </tr>\n",
       "    <tr>\n",
       "      <th>4</th>\n",
       "      <td>2020-06-14</td>\n",
       "    </tr>\n",
       "  </tbody>\n",
       "</table>\n",
       "</div>"
      ],
      "text/plain": [
       "         date\n",
       "0  2019-10-15\n",
       "1  2021-03-09\n",
       "2  2019-09-08\n",
       "3  2021-07-13\n",
       "4  2020-06-14"
      ]
     },
     "execution_count": 14,
     "metadata": {},
     "output_type": "execute_result"
    }
   ],
   "source": [
    "invoicedate=\"\"\"\n",
    "               select distinct(invoicedate::date ) as date\n",
    "                from stg.invoice i\n",
    "                \"\"\" \n",
    "inv_date=pd.read_sql_query(invoicedate,engine)\n",
    "inv_date.head()"
   ]
  },
  {
   "cell_type": "code",
   "execution_count": 15,
   "metadata": {},
   "outputs": [
    {
     "name": "stdout",
     "output_type": "stream",
     "text": [
      "2018-01-01\n",
      "2022-12-22\n"
     ]
    }
   ],
   "source": [
    "# inserting min and max invoice date into variables \n",
    "\n",
    "start_date=inv_date['date'].min()\n",
    "end_date=inv_date['date'].max()\n",
    "\n",
    "print(start_date)\n",
    "print(end_date)\n"
   ]
  },
  {
   "cell_type": "code",
   "execution_count": 16,
   "metadata": {},
   "outputs": [],
   "source": [
    "import requests\n",
    "from xml.etree import ElementTree"
   ]
  },
  {
   "cell_type": "code",
   "execution_count": 17,
   "metadata": {},
   "outputs": [
    {
     "name": "stdout",
     "output_type": "stream",
     "text": [
      "            Date  USD_to_NIS_Rate\n",
      "0     2018-01-02            3.457\n",
      "1     2018-01-03            3.460\n",
      "2     2018-01-04            3.448\n",
      "3     2018-01-05            3.446\n",
      "4     2018-01-08            3.441\n",
      "...          ...              ...\n",
      "1216  2022-12-16            3.451\n",
      "1217  2022-12-19            3.441\n",
      "1218  2022-12-20            3.469\n",
      "1219  2022-12-21            3.477\n",
      "1220  2022-12-22            3.477\n",
      "\n",
      "[1221 rows x 2 columns]\n"
     ]
    }
   ],
   "source": [
    "# API URL with date range using variables\n",
    "\n",
    "url = (\n",
    "    f\"https://edge.boi.gov.il/FusionEdgeServer/sdmx/v2/data/dataflow/BOI.STATISTICS/EXR/1.0/\"\n",
    "    f\"?c%5BDATA_TYPE%5D=OF00&c%5BBASE_CURRENCY%5D=USD&locale=he\"\n",
    "    f\"&startPeriod={start_date}&endPeriod={end_date}\"\n",
    ") \n",
    "\n",
    "# Send a GET request to the API\n",
    "response = requests.get(url)\n",
    "\n",
    "# Check if the request was successful\n",
    "if response.status_code == 200:\n",
    "    # Parse the XML content\n",
    "    tree = ElementTree.fromstring(response.content)\n",
    "    \n",
    "    # Extract relevant data from the XML tree\n",
    "    data = []\n",
    "    for series in tree.findall(\".//Series\"):\n",
    "        obs = series.findall(\".//Obs\")\n",
    "        for ob in obs:\n",
    "            date = ob.attrib['TIME_PERIOD']\n",
    "            value = ob.attrib['OBS_VALUE']\n",
    "            data.append({\"Date\": date, \"USD_to_NIS_Rate\": float(value)})\n",
    "    \n",
    "    # Create a DataFrame from the parsed data\n",
    "    currency = pd.DataFrame(data)\n",
    "    \n",
    "    # Print the DataFrame\n",
    "    print(currency)\n",
    "else:\n",
    "    print(f\"Failed to retrieve data. Status code: {response.status_code}\")"
   ]
  },
  {
   "cell_type": "code",
   "execution_count": 18,
   "metadata": {},
   "outputs": [
    {
     "data": {
      "text/plain": [
       "dtype('O')"
      ]
     },
     "execution_count": 18,
     "metadata": {},
     "output_type": "execute_result"
    }
   ],
   "source": [
    "#checking the date column type\n",
    "currency['Date'].dtypes"
   ]
  },
  {
   "cell_type": "code",
   "execution_count": 19,
   "metadata": {},
   "outputs": [],
   "source": [
    "#Set the Date column to datetime type \n",
    "currency['Date']=pd.to_datetime(currency['Date'])"
   ]
  },
  {
   "cell_type": "code",
   "execution_count": 20,
   "metadata": {},
   "outputs": [
    {
     "name": "stdout",
     "output_type": "stream",
     "text": [
      "     running_date\n",
      "0      2018-01-01\n",
      "1      2018-01-02\n",
      "2      2018-01-03\n",
      "3      2018-01-04\n",
      "4      2018-01-05\n",
      "...           ...\n",
      "1812   2022-12-18\n",
      "1813   2022-12-19\n",
      "1814   2022-12-20\n",
      "1815   2022-12-21\n",
      "1816   2022-12-22\n",
      "\n",
      "[1817 rows x 1 columns]\n"
     ]
    }
   ],
   "source": [
    "# Create a DataFrame with running dates (since not all dates are in Dim_currency)\n",
    "date_range = pd.date_range(start=start_date, end=end_date, freq='D')\n",
    "df_dates = pd.DataFrame(date_range, columns=['running_date'])\n",
    "\n",
    "print(df_dates)"
   ]
  },
  {
   "cell_type": "code",
   "execution_count": 21,
   "metadata": {},
   "outputs": [],
   "source": [
    "#merging the currency data to the running date df\n",
    "temp=pd.merge(df_dates,currency,how='left',left_on=['running_date'],right_on=['Date'])"
   ]
  },
  {
   "cell_type": "code",
   "execution_count": 22,
   "metadata": {},
   "outputs": [
    {
     "data": {
      "text/plain": [
       "np.int64(596)"
      ]
     },
     "execution_count": 22,
     "metadata": {},
     "output_type": "execute_result"
    }
   ],
   "source": [
    "#counting nulls in the temp df \n",
    "temp['USD_to_NIS_Rate'].isnull().sum()"
   ]
  },
  {
   "cell_type": "code",
   "execution_count": 23,
   "metadata": {},
   "outputs": [
    {
     "name": "stderr",
     "output_type": "stream",
     "text": [
      "C:\\Users\\revital\\AppData\\Local\\Temp\\ipykernel_16044\\3860097610.py:2: FutureWarning: A value is trying to be set on a copy of a DataFrame or Series through chained assignment using an inplace method.\n",
      "The behavior will change in pandas 3.0. This inplace method will never work because the intermediate object on which we are setting values always behaves as a copy.\n",
      "\n",
      "For example, when doing 'df[col].method(value, inplace=True)', try using 'df.method({col: value}, inplace=True)' or df[col] = df[col].method(value) instead, to perform the operation inplace on the original object.\n",
      "\n",
      "\n",
      "  temp['USD_to_NIS_Rate'].fillna(method='ffill', inplace=True)\n",
      "C:\\Users\\revital\\AppData\\Local\\Temp\\ipykernel_16044\\3860097610.py:2: FutureWarning: Series.fillna with 'method' is deprecated and will raise in a future version. Use obj.ffill() or obj.bfill() instead.\n",
      "  temp['USD_to_NIS_Rate'].fillna(method='ffill', inplace=True)\n"
     ]
    }
   ],
   "source": [
    "# filling null rate values with the previous non null value\n",
    "temp['USD_to_NIS_Rate'].fillna(method='ffill', inplace=True)"
   ]
  },
  {
   "cell_type": "code",
   "execution_count": 24,
   "metadata": {},
   "outputs": [
    {
     "name": "stderr",
     "output_type": "stream",
     "text": [
      "C:\\Users\\revital\\AppData\\Local\\Temp\\ipykernel_16044\\1606248295.py:2: FutureWarning: Series.fillna with 'method' is deprecated and will raise in a future version. Use obj.ffill() or obj.bfill() instead.\n",
      "  temp['USD_to_NIS_Rate']=temp['USD_to_NIS_Rate'].fillna(method='bfill')\n"
     ]
    }
   ],
   "source": [
    "# filling first null rate value with the next non null value\n",
    "temp['USD_to_NIS_Rate']=temp['USD_to_NIS_Rate'].fillna(method='bfill')"
   ]
  },
  {
   "cell_type": "code",
   "execution_count": 25,
   "metadata": {},
   "outputs": [
    {
     "data": {
      "text/html": [
       "<div>\n",
       "<style scoped>\n",
       "    .dataframe tbody tr th:only-of-type {\n",
       "        vertical-align: middle;\n",
       "    }\n",
       "\n",
       "    .dataframe tbody tr th {\n",
       "        vertical-align: top;\n",
       "    }\n",
       "\n",
       "    .dataframe thead th {\n",
       "        text-align: right;\n",
       "    }\n",
       "</style>\n",
       "<table border=\"1\" class=\"dataframe\">\n",
       "  <thead>\n",
       "    <tr style=\"text-align: right;\">\n",
       "      <th></th>\n",
       "      <th>running_date</th>\n",
       "      <th>Date</th>\n",
       "      <th>USD_to_NIS_Rate</th>\n",
       "    </tr>\n",
       "  </thead>\n",
       "  <tbody>\n",
       "    <tr>\n",
       "      <th>0</th>\n",
       "      <td>2018-01-01</td>\n",
       "      <td>NaT</td>\n",
       "      <td>3.457</td>\n",
       "    </tr>\n",
       "    <tr>\n",
       "      <th>1</th>\n",
       "      <td>2018-01-02</td>\n",
       "      <td>2018-01-02</td>\n",
       "      <td>3.457</td>\n",
       "    </tr>\n",
       "    <tr>\n",
       "      <th>2</th>\n",
       "      <td>2018-01-03</td>\n",
       "      <td>2018-01-03</td>\n",
       "      <td>3.460</td>\n",
       "    </tr>\n",
       "    <tr>\n",
       "      <th>3</th>\n",
       "      <td>2018-01-04</td>\n",
       "      <td>2018-01-04</td>\n",
       "      <td>3.448</td>\n",
       "    </tr>\n",
       "    <tr>\n",
       "      <th>4</th>\n",
       "      <td>2018-01-05</td>\n",
       "      <td>2018-01-05</td>\n",
       "      <td>3.446</td>\n",
       "    </tr>\n",
       "    <tr>\n",
       "      <th>...</th>\n",
       "      <td>...</td>\n",
       "      <td>...</td>\n",
       "      <td>...</td>\n",
       "    </tr>\n",
       "    <tr>\n",
       "      <th>1812</th>\n",
       "      <td>2022-12-18</td>\n",
       "      <td>NaT</td>\n",
       "      <td>3.451</td>\n",
       "    </tr>\n",
       "    <tr>\n",
       "      <th>1813</th>\n",
       "      <td>2022-12-19</td>\n",
       "      <td>2022-12-19</td>\n",
       "      <td>3.441</td>\n",
       "    </tr>\n",
       "    <tr>\n",
       "      <th>1814</th>\n",
       "      <td>2022-12-20</td>\n",
       "      <td>2022-12-20</td>\n",
       "      <td>3.469</td>\n",
       "    </tr>\n",
       "    <tr>\n",
       "      <th>1815</th>\n",
       "      <td>2022-12-21</td>\n",
       "      <td>2022-12-21</td>\n",
       "      <td>3.477</td>\n",
       "    </tr>\n",
       "    <tr>\n",
       "      <th>1816</th>\n",
       "      <td>2022-12-22</td>\n",
       "      <td>2022-12-22</td>\n",
       "      <td>3.477</td>\n",
       "    </tr>\n",
       "  </tbody>\n",
       "</table>\n",
       "<p>1817 rows × 3 columns</p>\n",
       "</div>"
      ],
      "text/plain": [
       "     running_date       Date  USD_to_NIS_Rate\n",
       "0      2018-01-01        NaT            3.457\n",
       "1      2018-01-02 2018-01-02            3.457\n",
       "2      2018-01-03 2018-01-03            3.460\n",
       "3      2018-01-04 2018-01-04            3.448\n",
       "4      2018-01-05 2018-01-05            3.446\n",
       "...           ...        ...              ...\n",
       "1812   2022-12-18        NaT            3.451\n",
       "1813   2022-12-19 2022-12-19            3.441\n",
       "1814   2022-12-20 2022-12-20            3.469\n",
       "1815   2022-12-21 2022-12-21            3.477\n",
       "1816   2022-12-22 2022-12-22            3.477\n",
       "\n",
       "[1817 rows x 3 columns]"
      ]
     },
     "execution_count": 25,
     "metadata": {},
     "output_type": "execute_result"
    }
   ],
   "source": [
    "temp"
   ]
  },
  {
   "cell_type": "code",
   "execution_count": 26,
   "metadata": {},
   "outputs": [],
   "source": [
    "temp['USD_to_NIS_Rate']=temp['USD_to_NIS_Rate'].round(4)"
   ]
  },
  {
   "cell_type": "code",
   "execution_count": 27,
   "metadata": {},
   "outputs": [
    {
     "name": "stdout",
     "output_type": "stream",
     "text": [
      "           Date  USD_to_NIS_Rate\n",
      "0    2018-01-01            3.457\n",
      "1    2018-01-02            3.457\n",
      "2    2018-01-03            3.460\n",
      "3    2018-01-04            3.448\n",
      "4    2018-01-05            3.446\n",
      "...         ...              ...\n",
      "1812 2022-12-18            3.451\n",
      "1813 2022-12-19            3.441\n",
      "1814 2022-12-20            3.469\n",
      "1815 2022-12-21            3.477\n",
      "1816 2022-12-22            3.477\n",
      "\n",
      "[1817 rows x 2 columns]\n"
     ]
    },
    {
     "name": "stderr",
     "output_type": "stream",
     "text": [
      "C:\\Users\\revital\\AppData\\Local\\Temp\\ipykernel_16044\\564298850.py:3: SettingWithCopyWarning: \n",
      "A value is trying to be set on a copy of a slice from a DataFrame\n",
      "\n",
      "See the caveats in the documentation: https://pandas.pydata.org/pandas-docs/stable/user_guide/indexing.html#returning-a-view-versus-a-copy\n",
      "  Dim_currency.rename(columns={'running_date':'Date'},inplace=True)\n"
     ]
    }
   ],
   "source": [
    "#creating Dim_currency table with the relevant columns ftom temp df\n",
    "Dim_currency=temp[['running_date','USD_to_NIS_Rate']]\n",
    "Dim_currency.rename(columns={'running_date':'Date'},inplace=True)\n",
    "print(Dim_currency)"
   ]
  },
  {
   "cell_type": "code",
   "execution_count": 28,
   "metadata": {},
   "outputs": [
    {
     "data": {
      "text/plain": [
       "np.int64(0)"
      ]
     },
     "execution_count": 28,
     "metadata": {},
     "output_type": "execute_result"
    }
   ],
   "source": [
    "#testing for null values in 'USD_to_NIS_Rate' column\n",
    "Dim_currency['USD_to_NIS_Rate'].isnull().sum()"
   ]
  },
  {
   "cell_type": "code",
   "execution_count": 29,
   "metadata": {},
   "outputs": [
    {
     "name": "stderr",
     "output_type": "stream",
     "text": [
      "C:\\Users\\revital\\AppData\\Local\\Temp\\ipykernel_16044\\2907403870.py:1: SettingWithCopyWarning: \n",
      "A value is trying to be set on a copy of a slice from a DataFrame.\n",
      "Try using .loc[row_indexer,col_indexer] = value instead\n",
      "\n",
      "See the caveats in the documentation: https://pandas.pydata.org/pandas-docs/stable/user_guide/indexing.html#returning-a-view-versus-a-copy\n",
      "  Dim_currency['Date']=Dim_currency['Date'].dt.date\n"
     ]
    }
   ],
   "source": [
    "#converting the date from datetime type to date\n",
    "Dim_currency['Date']=Dim_currency['Date'].dt.date"
   ]
  },
  {
   "cell_type": "code",
   "execution_count": 30,
   "metadata": {},
   "outputs": [
    {
     "data": {
      "text/plain": [
       "817"
      ]
     },
     "execution_count": 30,
     "metadata": {},
     "output_type": "execute_result"
    }
   ],
   "source": [
    "# transfer of table Dim_currency to SQL DWH\n",
    "\n",
    "user='postgres'\n",
    "password='postgres'\n",
    "db_host = 'localhost'\n",
    "db_port = '5432'\n",
    "database='chinook'\n",
    "\n",
    "connection=f\"postgresql+psycopg2://{user}:{password}@{db_host}:{db_port}/{database}\"\n",
    "engine=create_engine(connection)\n",
    "\n",
    "Dim_currency.to_sql('Dim_currency', engine, if_exists='replace', index=False,schema='chinook_dwh')\n",
    "\n"
   ]
  }
 ],
 "metadata": {
  "kernelspec": {
   "display_name": "Python 3",
   "language": "python",
   "name": "python3"
  },
  "language_info": {
   "codemirror_mode": {
    "name": "ipython",
    "version": 3
   },
   "file_extension": ".py",
   "mimetype": "text/x-python",
   "name": "python",
   "nbconvert_exporter": "python",
   "pygments_lexer": "ipython3",
   "version": "3.11.3"
  }
 },
 "nbformat": 4,
 "nbformat_minor": 2
}
